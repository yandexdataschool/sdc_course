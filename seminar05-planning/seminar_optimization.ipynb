{
 "cells": [
  {
   "cell_type": "code",
   "execution_count": null,
   "metadata": {},
   "outputs": [],
   "source": [
    "# Dependencies\n",
    "# !pip3 install mpld3\n",
    "# !pip3 install casadi\n",
    "# !pip3 install scipy\n"
   ]
  },
  {
   "cell_type": "code",
   "execution_count": null,
   "metadata": {},
   "outputs": [],
   "source": [
    "import numpy as np\n",
    "from casadi import *"
   ]
  },
  {
   "cell_type": "markdown",
   "metadata": {},
   "source": [
    "# Casadi Examples"
   ]
  },
  {
   "cell_type": "markdown",
   "metadata": {},
   "source": [
    "https://web.casadi.org/docs/#document-ocp"
   ]
  },
  {
   "cell_type": "code",
   "execution_count": null,
   "metadata": {},
   "outputs": [],
   "source": [
    "x = MX.sym('x', 2, 2)\n",
    "y = MX.sym('y')\n",
    "\n",
    "z = 3 * x + y\n",
    "print(z)"
   ]
  },
  {
   "cell_type": "code",
   "execution_count": null,
   "metadata": {},
   "outputs": [],
   "source": [
    "print(jacobian(sin(z), x))"
   ]
  },
  {
   "cell_type": "code",
   "execution_count": null,
   "metadata": {},
   "outputs": [],
   "source": [
    "x = MX.sym('x')\n",
    "y = MX.sym('y')\n",
    "f = Function('x', [x, y], [y + sin(x)])\n",
    "\n",
    "f(1., 1.)\n",
    "\n",
    "jf = jacobian(f(x, y), x)\n",
    "print(jf)"
   ]
  },
  {
   "cell_type": "code",
   "execution_count": null,
   "metadata": {},
   "outputs": [],
   "source": [
    "opti = Opti()\n",
    "\n",
    "x = opti.variable()\n",
    "y = opti.variable()\n",
    "\n",
    "z = (x - 1.) ** 2 + y ** 2\n",
    "opti.minimize(z)\n",
    "opti.subject_to(x**2 + y**2 == 1)\n",
    "opti.subject_to(x + y >= 1)\n",
    "\n",
    "opti.set_initial(x, 0)\n",
    "opti.set_initial(y, 0)\n",
    "\n",
    "opti.solver('ipopt')\n",
    "\n",
    "sol = opti.solve()\n",
    "\n",
    "print('x: {}, y: {}, z: {}'.format(sol.value(x), sol.value(y), sol.value(z)))"
   ]
  },
  {
   "cell_type": "markdown",
   "metadata": {},
   "source": [
    "# Let's create a race car!!!"
   ]
  },
  {
   "cell_type": "markdown",
   "metadata": {},
   "source": [
    "Inspired by CasADi usage examples\n",
    "\n",
    "https://web.casadi.org/blog/ocp/\n"
   ]
  },
  {
   "cell_type": "code",
   "execution_count": null,
   "metadata": {},
   "outputs": [],
   "source": [
    "from casadi import *\n",
    "from pylab import plot, step, figure, legend, show, spy\n",
    "import matplotlib.pyplot as plt\n",
    "import math"
   ]
  },
  {
   "cell_type": "code",
   "execution_count": null,
   "metadata": {},
   "outputs": [],
   "source": [
    "# choose a car\n",
    "friction_acc = 6.\n",
    "\n",
    "a_t_min = -5.\n",
    "a_t_max = 3.\n",
    "\n",
    "\n",
    "# TODO: add constraint on friction instead of constraint on normal acceleration\n",
    "a_n_max = (friction_acc**2 - a_t_min**2) ** 0.5\n",
    "print(a_n_max)\n",
    "\n",
    "a_n_min = -a_n_max\n",
    "\n",
    "c_max = 0.2\n",
    "c_min = -0.2\n",
    "\n",
    "vehicle_width = 2.0\n",
    "vehicle_length = 4.0\n",
    "vehicle_back_to_axis = 1.0"
   ]
  },
  {
   "cell_type": "code",
   "execution_count": null,
   "metadata": {},
   "outputs": [],
   "source": [
    "# create a race track\n",
    "Length = 250.\n",
    "road_width = 10.\n",
    "road_period = 35.\n",
    "road_amplitude = 24.\n",
    "\n",
    "# TODO: remove magic margin and process borders accurately\n",
    "margin = vehicle_length - vehicle_back_to_axis\n",
    "\n",
    "def road_center(x):\n",
    "    return (cos(x / road_period) - 1) * road_amplitude\n",
    "\n",
    "def road_curvature(x):\n",
    "    # curvature of A * cos(x / T)\n",
    "    A = road_amplitude\n",
    "    T = road_period\n",
    "    \n",
    "    d = sqrt((A**2 * sin(x/T) ** 2)/T**2 + 1)\n",
    "    l = ((A * cos(x/T))/((T**2 + A**2*sin(x/T)**2) * sqrt((A**2 * sin(x/T)**2)/T**2 + 1)))**2\n",
    "    r = 1/4 * ((A**2 * sin((2 * x)/T))/(T**3 * ((A**2 * sin(x/T)**2)/T**2 + 1)**(3/2)))**2\n",
    "    return sqrt(l + r) / d\n",
    "\n",
    "def road_yaw(x):\n",
    "    return - sin(x / road_period) * road_amplitude / road_period\n",
    "\n",
    "def top_border(x, shift=0.):\n",
    "    return road_center(x) + road_width / 2. + shift\n",
    "\n",
    "def bottom_border(x, shift=0.):\n",
    "    return road_center(x) - road_width / 2. + shift"
   ]
  },
  {
   "cell_type": "code",
   "execution_count": null,
   "metadata": {},
   "outputs": [],
   "source": [
    "# number of points in trajectory\n",
    "N = 100"
   ]
  },
  {
   "cell_type": "code",
   "execution_count": null,
   "metadata": {},
   "outputs": [],
   "source": [
    "# Baseline solution\n",
    "x_uniform = np.arange(N + 1) * Length / N\n",
    "max_curvature = max(abs(np.array(road_curvature(x_uniform))))\n",
    "v_max = math.sqrt(a_n_max / max_curvature)\n",
    "\n",
    "\n",
    "# baseline solution - accelerate till max allowed speed limit and\n",
    "# keep driving with it\n",
    "t_acc = v_max / a_t_max\n",
    "T_baseline = t_acc + (Length - t_acc ** 2 / 2) / v_max\n",
    "\n",
    "print('''Baseline time is {0:.3f} sec.'''.format(T_baseline))"
   ]
  },
  {
   "cell_type": "code",
   "execution_count": null,
   "metadata": {},
   "outputs": [],
   "source": [
    "# create a race car planner!\n",
    "opti = Opti()\n",
    "\n",
    "# X = {x, y, yaw, v}\n",
    "X = opti.variable(4, N + 1)\n",
    "x_id, y_id, yaw_id, v_id = 0, 1, 2, 3\n",
    "\n",
    "# U = {a, c}\n",
    "a_t_id, c_id = 0, 1\n",
    "U = opti.variable(2, N)\n",
    "\n",
    "T = opti.variable()\n",
    "\n",
    "opti.minimize(T)"
   ]
  },
  {
   "cell_type": "code",
   "execution_count": null,
   "metadata": {},
   "outputs": [],
   "source": [
    "# define system equation constraints\n",
    "def system_equation(X, U):\n",
    "    speed = X[v_id]\n",
    "    yaw = X[yaw_id]\n",
    "    derivatives = vertcat(\n",
    "        speed * cos(yaw),\n",
    "        speed * sin(yaw),\n",
    "        speed * U[c_id],\n",
    "        U[a_t_id]\n",
    "    )\n",
    "    return derivatives\n",
    "\n",
    "dt = T / N\n",
    "for i in range(N):\n",
    "    # just Euler method\n",
    "    x_next = X[:, i] + system_equation(X[:, i], U[:, i]) * dt\n",
    "    opti.subject_to(X[:, i + 1] == x_next)\n",
    "\n",
    "opti.subject_to(X[v_id, :] >= 0)\n",
    "\n",
    "# start and finish constraints\n",
    "opti.subject_to(X[:, 0] == [0., 0., 0., 0.])\n",
    "opti.subject_to(X[x_id, -1] == Length)\n",
    "\n",
    "# improve stability\n",
    "opti.subject_to(X[y_id, -1] == road_center(Length))\n",
    "opti.subject_to(X[yaw_id, -1] == road_yaw(Length))\n",
    "\n",
    "\n",
    "# control constraints\n",
    "opti.subject_to(U[a_t_id, :] <= a_t_max)\n",
    "opti.subject_to(U[a_t_id, :] >= a_t_min)\n",
    "\n",
    "opti.subject_to(U[c_id, :] <= c_max)\n",
    "opti.subject_to(U[c_id, :] >= c_min)\n",
    "\n",
    "# normal acc. constraint\n",
    "opti.subject_to(U[c_id, :] * X[v_id, :-1] ** 2 <= a_n_max)\n",
    "opti.subject_to(U[c_id, :] * X[v_id, :-1] ** 2 >= a_n_min)\n",
    "\n",
    "# road border constraints\n",
    "opti.subject_to(X[y_id, :] <= top_border(X[x_id, :]) - margin)\n",
    "opti.subject_to(X[y_id, :] >= bottom_border(X[x_id, :]) + margin)\n",
    "\n",
    "# time constraint\n",
    "opti.subject_to(T >= 0.)"
   ]
  },
  {
   "cell_type": "code",
   "execution_count": null,
   "metadata": {},
   "outputs": [],
   "source": [
    "# prepare initial trivial solution - race slowly in the middle in the track\n",
    "v_init = v_max\n",
    "T_init = Length / v_init\n",
    "x_init = v_init * np.arange(N + 1) * T_init / N\n",
    "\n",
    "opti.set_initial(T, T_init)\n",
    "opti.set_initial(X[v_id, :], v_init)\n",
    "opti.set_initial(X[x_id, :], x_init)\n",
    "opti.set_initial(X[y_id, :], road_center(x_init))"
   ]
  },
  {
   "cell_type": "code",
   "execution_count": null,
   "metadata": {},
   "outputs": [],
   "source": [
    "# Solve\n",
    "opti.solver('ipopt')\n",
    "solution = opti.solve()"
   ]
  },
  {
   "cell_type": "code",
   "execution_count": null,
   "metadata": {},
   "outputs": [],
   "source": [
    "def rotation_matrix(yaw):\n",
    "    return np.array([[cos(yaw), -sin(yaw)], [sin(yaw), cos(yaw)]])"
   ]
  },
  {
   "cell_type": "code",
   "execution_count": null,
   "metadata": {},
   "outputs": [],
   "source": [
    "# plot solution\n",
    "\n",
    "import mpld3\n",
    "%matplotlib inline\n",
    "mpld3.enable_notebook()\n",
    "plt.rcParams[\"figure.figsize\"] = [10, 5]\n",
    "\n",
    "x_s = solution.value(X[x_id, :])\n",
    "y_s = solution.value(X[y_id, :])\n",
    "v_s = solution.value(X[v_id, :])\n",
    "\n",
    "yaw_s = solution.value(X[yaw_id, :])\n",
    "c_s = solution.value(U[c_id, :])\n",
    "a_t_s = solution.value(U[a_t_id, :])\n",
    "T_s = solution.value(T)\n",
    "t_u = np.arange(N + 1) * T_s / N\n",
    "\n",
    "print('''Congratulations, you completed the race!!!\n",
    "Your track time is {0:.3f} sec., baseline time is {1:.3f} sec.'''.format(T_s, T_baseline))\n",
    "\n",
    "\n",
    "plot(x_s, y_s, 'r.', label='y')\n",
    "plot(x_s, top_border(x_s, -margin), 'k-', label='top_border with margin')\n",
    "plot(x_s, bottom_border(x_s, +margin), 'k-', label='bottom_border with margin')\n",
    "plot(x_s, top_border(x_s), 'k-', label='top_border')\n",
    "plot(x_s, bottom_border(x_s), 'k-', label='bottom_border')\n",
    "plot(x_s, road_center(x_s), 'g--', label='road center')\n",
    "plt.xlabel('x')\n",
    "plt.ylabel('y')\n",
    "\n",
    "\n",
    "for x, y, yaw in zip(x_s, y_s, yaw_s):\n",
    "    center = np.array([[x], [y]]) + rotation_matrix(yaw).dot(np.array([[-vehicle_back_to_axis], [-vehicle_width/2]]))\n",
    "    rect = plt.Rectangle(center, vehicle_length, vehicle_width, angle=math.degrees(yaw), facecolor='none', linewidth=1, edgecolor='k')\n",
    "    plt.gca().add_patch(rect)\n",
    "legend(loc='lower right')\n",
    "\n",
    "figure()\n",
    "plot(t_u, y_s, 'r.', label='y')\n",
    "plot(t_u, top_border(x_s), 'k-', label='top_border')\n",
    "plot(t_u, bottom_border(x_s), 'k-', label='bottom_border')\n",
    "plot(t_u, road_center(x_s), 'g--', label='road center')\n",
    "plt.xlabel('time')\n",
    "legend(loc='lower right')\n",
    "\n",
    "figure()\n",
    "# plot(x_s, label='x')\n",
    "plot(t_u, v_s, label='v')\n",
    "plot(t_u[:-1], a_t_s, label='a')\n",
    "plot(t_u[:-1], c_s * v_s[:-1] ** 2, label='a_n')\n",
    "plt.xlabel('time')\n",
    "legend(loc='lower right')\n",
    "\n",
    "figure()\n",
    "plot(t_u, yaw_s, label='yaw')\n",
    "plot(t_u[:-1], c_s, label='c')\n",
    "plt.xlabel('time')\n",
    "legend(loc='lower right')\n",
    "\n",
    "show()\n",
    "\n"
   ]
  },
  {
   "cell_type": "code",
   "execution_count": null,
   "metadata": {},
   "outputs": [],
   "source": [
    "# jacobian and hessian are very sparse in this kind of tasks.\n",
    "\n",
    "spy(solution.value(jacobian(opti.g, opti.x)), aspect='auto', markersize=1.)\n",
    "\n",
    "plt.xlabel('variables')\n",
    "plt.ylabel('constraints')"
   ]
  },
  {
   "cell_type": "markdown",
   "metadata": {},
   "source": [
    "**Home assignment (Russian)**\n",
    "\n",
    "* максимальная оценка за домашнее задание 10 баллов\n",
    "\n",
    "В примере на семинаре было сделано несколько допущений, улучшив которые, вы можете построить более быструю траекторию.\n",
    "\n",
    "* Уточнить ограничение на нормальное и тангенциальное ускорение. (2 балла)\n",
    "\n",
    "Нормальное и тангенциальное ускорение нужно выбирать таким, чтобы результирующий вектор ускорения не превышал силу трения.\n",
    "\n",
    "Результирующее ускорение считается как векторная сумма нормального и тангенциального ускорения.\n",
    "\n",
    "`a ** 2 = a_n ** 2 + a_t ** 2`\n",
    "\n",
    "То есть лимит a_t_min, a_t_max, a_n_max, a_n_min надо заменить на лимит по friction_acc.\n",
    "Лимит a_t_max при этом остаётся, так как это ограничение на максимальный момент двигателя.\n",
    "\n",
    "**В отчёт** надо добавить график величины результирующего ускорения.\n",
    "\n",
    "\n",
    "* Уточнить проверку границы дороги (4 балла)\n",
    "\n",
    "На семинаре мы отступили по 3 метра от границы дороги. \n",
    "В домашнем задании вам предстоит написать более точную проверку, \n",
    "что позволит автомобилю использовать всё свободное пространство.\n",
    "\n",
    "Подсказка: один из вариантов реализации это проверка, что углы прямоугольника находятся внутри дорожного полотна.\n",
    "\n",
    "**В отчёте** должен быть график, показывающий границы дороги и габариты автомобиля. График с семинара подходит.\n",
    "\n",
    "* Объезд препятствия (4 балла)\n",
    "\n",
    "В качестве препятствия выбираем окружность радиусом 1 м. X,Y выбираем так, чтобы препятствие было расположено на траектории движения автомобиля.\n",
    "\n",
    "Реализуйте ограничение на отсутствие коллизий с препятствием. \n",
    "\n",
    "**В отчёт** приложите график, на котором автомобиль изначально проезжает сквозь препятствие.\n",
    "После реализации ограничений объезжает препятствие. \n",
    "Если для проверки коллизий будете использовать аппроксимацию окружностями(см. ниже), то приложите график, визуализирующий как окружности накрывают габариты автомобиля.\n",
    "\n",
    "Для визуализации препятствия можете использовать matplotlib.Circle\n",
    "```\n",
    "obstacle = plt.Circle(xy=(obstacle_x, obstacle_y), radius=obstacle_r)\n",
    "plt.gca().add_patch(obstacle)\n",
    "```\n",
    "\n",
    "Подсказка: Один из вариантов реализации это аппроксимация автомобиля набором окружностей.\n",
    "Тогда ограничение на отсутствие коллизий выражается в то, что расстояние от центра препятствия до центра каждой окружности автомобиля должно быть больше, чем сумма радиусов.\n",
    "\n",
    "Требования к точности аппроксимации - весь автомобиль должен быть накрыт окружностями. Окружности не должны выступать за боковые стороны автомобиля больше чем на 0.3 м.\n",
    "\n",
    "<img src=\"car_approximation.png\">\n",
    "\n"
   ]
  }
 ],
 "metadata": {
  "kernelspec": {
   "display_name": "Python 3",
   "language": "python",
   "name": "python3"
  },
  "language_info": {
   "codemirror_mode": {
    "name": "ipython",
    "version": 3
   },
   "file_extension": ".py",
   "mimetype": "text/x-python",
   "name": "python",
   "nbconvert_exporter": "python",
   "pygments_lexer": "ipython3",
   "version": "3.6.9"
  }
 },
 "nbformat": 4,
 "nbformat_minor": 2
}